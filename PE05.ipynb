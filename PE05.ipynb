{
 "cells": [
  {
   "cell_type": "code",
   "execution_count": null,
   "metadata": {},
   "outputs": [],
   "source": [
    "import pandas as pd\n",
    "\n",
    "# Load the movies dataset\n",
    "movies = pd.read_csv('path_to_movies.csv')\n",
    "\n",
    "# Load the ratings dataset\n",
    "ratings = pd.read_excel('path_to_ratings.xlsx')\n"
   ]
  },
  {
   "cell_type": "code",
   "execution_count": null,
   "metadata": {},
   "outputs": [],
   "source": [
    "# Merge datasets on the movieId column\n",
    "merged_data = pd.merge(movies, ratings, on='movieId', how='inner')\n"
   ]
  },
  {
   "cell_type": "code",
   "execution_count": null,
   "metadata": {},
   "outputs": [],
   "source": [
    "merged_data.dropna(inplace=True)\n"
   ]
  },
  {
   "cell_type": "code",
   "execution_count": null,
   "metadata": {},
   "outputs": [],
   "source": [
    "merged_data['timestamp'] = pd.to_datetime(merged_data['timestamp'], unit='s')\n"
   ]
  },
  {
   "cell_type": "code",
   "execution_count": null,
   "metadata": {},
   "outputs": [],
   "source": [
    "merged_data['release_year'] = merged_data['title'].str.extract(r'\\((\\d{4})\\)').astype(float)\n"
   ]
  },
  {
   "cell_type": "code",
   "execution_count": null,
   "metadata": {},
   "outputs": [],
   "source": [
    "ratings_count = merged_data['title'].value_counts()\n",
    "popular_movies = merged_data[merged_data['title'].isin(ratings_count[ratings_count >= 100].index)]\n",
    "highest_avg_rating = popular_movies.groupby('title')['rating'].mean().idxmax()\n"
   ]
  },
  {
   "cell_type": "code",
   "execution_count": null,
   "metadata": {},
   "outputs": [],
   "source": [
    "# Group by movie title and calculate the average rating and count of ratings\n",
    "movie_avg_rating = merged_data.groupby('title').agg(\n",
    "    avg_rating=('rating', 'mean'),\n",
    "    count=('rating', 'size')\n",
    ")\n",
    "# Filter for movies with at least 100 ratings, then find the highest average rating\n",
    "highest_avg_rating_movie = movie_avg_rating[movie_avg_rating['count'] >= 100].sort_values(\n",
    "    by='avg_rating', ascending=False).iloc[0]\n"
   ]
  },
  {
   "cell_type": "code",
   "execution_count": null,
   "metadata": {},
   "outputs": [],
   "source": [
    "yearly_avg_rating = merged_data.groupby('release_year')['rating'].mean()\n"
   ]
  },
  {
   "cell_type": "code",
   "execution_count": null,
   "metadata": {},
   "outputs": [],
   "source": [
    "yearly_avg_rating = merged_data.groupby('release_year').agg(avg_rating=('rating', 'mean'))\n"
   ]
  },
  {
   "cell_type": "code",
   "execution_count": null,
   "metadata": {},
   "outputs": [],
   "source": [
    "merged_data['category'] = merged_data['release_year'].apply(lambda x: 'Old' if x < 2000 else 'New')\n"
   ]
  },
  {
   "cell_type": "code",
   "execution_count": null,
   "metadata": {},
   "outputs": [],
   "source": [
    "genre_map = {\n",
    "    'Comedy': 'Popular',\n",
    "    'Drama': 'Classic',\n",
    "    'Action': 'Exciting'\n",
    "}\n",
    "\n",
    "# Map the genre labels\n",
    "merged_data['genre_label'] = merged_data['genres'].explode().map(genre_map)\n"
   ]
  }
 ],
 "metadata": {
  "kernelspec": {
   "display_name": "Python 3",
   "language": "python",
   "name": "python3"
  },
  "language_info": {
   "codemirror_mode": {
    "name": "ipython",
    "version": 3
   },
   "file_extension": ".py",
   "mimetype": "text/x-python",
   "name": "python",
   "nbconvert_exporter": "python",
   "pygments_lexer": "ipython3",
   "version": "3.12.4"
  }
 },
 "nbformat": 4,
 "nbformat_minor": 2
}
